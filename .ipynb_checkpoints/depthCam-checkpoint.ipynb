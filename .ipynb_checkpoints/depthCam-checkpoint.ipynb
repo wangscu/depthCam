{
 "cells": [
  {
   "cell_type": "code",
   "execution_count": 1,
   "metadata": {},
   "outputs": [
    {
     "data": {
      "text/plain": [
       "0"
      ]
     },
     "execution_count": 1,
     "metadata": {},
     "output_type": "execute_result"
    }
   ],
   "source": [
    "import TY as ty\n",
    "import numpy as np\n",
    "from ctypes import *\n",
    "import cv2\n",
    "import matplotlib\n",
    "import matplotlib.pyplot as plt\n",
    "%matplotlib inline  \n",
    "\n",
    "\n",
    "ty._TYInitLib()\n",
    "dn = pointer(c_int32())\n",
    "ty.TYGetDeviceNumber(dn)\n",
    "dn.contents.value\n",
    "DBI = ty.TY_DEVICE_BASE_INFO()\n",
    "pDBI= pointer(DBI)\n",
    "\n",
    "ty.TYGetDeviceList(pDBI, 100, dn)\n",
    "\n",
    "pDBI[0].id\n",
    "\n",
    "\n",
    "hh = ty.TY_DEV_HANDLE()\n",
    "\n",
    "did = pDBI[0].id.decode('utf-8')\n",
    "\n",
    "didStr = ty.ReturnString( c_char_p( pDBI[0].id))\n",
    "\n",
    "didStr\n",
    "\n",
    "ty.TYOpenDevice(didStr, pointer(hh))\n",
    "\n",
    "allComps = c_int32()\n",
    "\n",
    "ty.TYGetComponentIDs(hh, pointer(allComps))\n",
    "\n",
    "allComps\n",
    "\n",
    "componentIDs =  ty.TY_COMPONENT_POINT3D_CAM | ty.TY_COMPONENT_RGB_CAM\n",
    "\n",
    "ty.TYEnableComponents(hh, componentIDs)\n",
    "\n",
    "\n",
    "frameSize = c_int32()\n",
    "ty.TYGetFrameBufferSize(hh, pointer(frameSize))\n",
    "frameSize\n",
    "frameBuffer = [create_string_buffer(frameSize.value), \n",
    "               create_string_buffer(frameSize.value),]\n",
    "\n",
    "ty.TYEnqueueBuffer(hh, frameBuffer[0], frameSize.value)\n",
    "ty.TYEnqueueBuffer(hh, frameBuffer[1], frameSize.value)\n",
    "\n",
    "ty.TYSetBool(hh, ty.TY_COMPONENT_DEVICE, ty.TY_BOOL_TRIGGER_MODE, c_bool(False))\n",
    "\n",
    "ty.TYStartCapture(hh)\n"
   ]
  },
  {
   "cell_type": "code",
   "execution_count": 3,
   "metadata": {},
   "outputs": [
    {
     "name": "stdout",
     "output_type": "stream",
     "text": [
      "0\n"
     ]
    }
   ],
   "source": [
    "frame = ty.TY_FRAME_DATA()\n",
    "userdata = ty.TY_FRAME_DATA()\n",
    "\n",
    "err = ty.TYFetchFrame(hh, pointer(frame), -1)\n",
    "print(err)\n",
    "\n",
    "\n"
   ]
  },
  {
   "cell_type": "code",
   "execution_count": 5,
   "metadata": {},
   "outputs": [
    {
     "data": {
      "text/plain": [
       "480"
      ]
     },
     "execution_count": 5,
     "metadata": {},
     "output_type": "execute_result"
    }
   ],
   "source": [
    "ty.TYErrorString(err)\n",
    "frame.image[0].height"
   ]
  },
  {
   "cell_type": "code",
   "execution_count": null,
   "metadata": {
    "collapsed": true
   },
   "outputs": [],
   "source": [
    "\n",
    "ty.TYStopCapture(hh)\n",
    "ty.TYCloseDevice(hh)\n",
    "ty.TYDeinitLib()\n",
    "\n",
    "\n"
   ]
  }
 ],
 "metadata": {
  "kernelspec": {
   "display_name": "Python 3",
   "language": "python",
   "name": "python3"
  },
  "language_info": {
   "codemirror_mode": {
    "name": "ipython",
    "version": 3
   },
   "file_extension": ".py",
   "mimetype": "text/x-python",
   "name": "python",
   "nbconvert_exporter": "python",
   "pygments_lexer": "ipython3",
   "version": "3.4.3"
  }
 },
 "nbformat": 4,
 "nbformat_minor": 2
}
